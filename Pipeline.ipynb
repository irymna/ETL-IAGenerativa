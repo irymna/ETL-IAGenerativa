{
  "nbformat": 4,
  "nbformat_minor": 0,
  "metadata": {
    "colab": {
      "provenance": [],
      "toc_visible": true,
      "authorship_tag": "ABX9TyPIJrPmI6mNkszb37A77esP"
    },
    "kernelspec": {
      "name": "python3",
      "display_name": "Python 3"
    },
    "language_info": {
      "name": "python"
    }
  },
  "cells": [
    {
      "cell_type": "markdown",
      "source": [
        "# Explorando IA Generativa em um Pipeline de ETL com Python"
      ],
      "metadata": {
        "id": "jrsycdkLBcuG"
      }
    },
    {
      "cell_type": "markdown",
      "source": [
        "## Instruções iniciais"
      ],
      "metadata": {
        "id": "d9kpBEd5PCci"
      }
    },
    {
      "cell_type": "markdown",
      "source": [
        "[Repositório no GitHub da API](https://github.com/digitalinnovationone/santander-dev-week-2023-api)\n"
      ],
      "metadata": {
        "id": "gy7DJAUrCoBx"
      }
    },
    {
      "cell_type": "markdown",
      "source": [
        "A partir do Swagger da API, foi criado 4 IDs para usar nesse desafio.\n",
        "\n",
        "Passos:\n",
        "1. Criação de 4 IDs (apenas informações de nome, conta, agencia, dinheiro - o ID o próprio API criou).\n",
        "2. Criação de um arquivo em excel com os números dos IDs criados.\n",
        "3. Arquivo upado aqui para extração no pandas."
      ],
      "metadata": {
        "id": "HYfAIiFn6ULh"
      }
    },
    {
      "cell_type": "code",
      "source": [
        "# API\n",
        "sdw2023_api_url = 'https://sdw-2023-prd.up.railway.app'"
      ],
      "metadata": {
        "id": "NF2mcGbpBmdP"
      },
      "execution_count": null,
      "outputs": []
    },
    {
      "cell_type": "markdown",
      "source": [
        "## Extração"
      ],
      "metadata": {
        "id": "95yD05nW4io4"
      }
    },
    {
      "cell_type": "markdown",
      "source": [
        "Extraçao dos IDs:"
      ],
      "metadata": {
        "id": "RQwu--eX6DD1"
      }
    },
    {
      "cell_type": "code",
      "source": [
        "import pandas as pd"
      ],
      "metadata": {
        "id": "JkUc0B6n4kI3"
      },
      "execution_count": null,
      "outputs": []
    },
    {
      "cell_type": "code",
      "source": [
        "df = pd.read_excel('SDW2023.xlsx')"
      ],
      "metadata": {
        "id": "TdE54d9D5XYG"
      },
      "execution_count": null,
      "outputs": []
    },
    {
      "cell_type": "code",
      "source": [
        "user_ids = df['UserID'].tolist()"
      ],
      "metadata": {
        "id": "J4_1jYG-5i6o"
      },
      "execution_count": null,
      "outputs": []
    },
    {
      "cell_type": "markdown",
      "source": [
        "Obtenção dos dados de cada ID usando a API do Santander Dev Week 2023 (dando GET nos endpoints):"
      ],
      "metadata": {
        "id": "eqlwI6Hf6E63"
      }
    },
    {
      "cell_type": "code",
      "source": [
        "import requests\n",
        "import json"
      ],
      "metadata": {
        "id": "8rIDL1NB6Myn"
      },
      "execution_count": null,
      "outputs": []
    },
    {
      "cell_type": "code",
      "source": [
        "# Dando GET nos endpoints\n",
        "def get_user(id):\n",
        "  response = requests.get(f'{sdw2023_api_url}/users/{id}')\n",
        "  return response.json() if response.status_code == 200 else None"
      ],
      "metadata": {
        "id": "9zNm-quW7lNd"
      },
      "execution_count": null,
      "outputs": []
    },
    {
      "cell_type": "code",
      "source": [
        "users = [user for id in user_ids if (user := get_user(id)) is not None]"
      ],
      "metadata": {
        "id": "izo-dAxy8TL_"
      },
      "execution_count": null,
      "outputs": []
    },
    {
      "cell_type": "code",
      "source": [
        "print(json.dumps(users, indent=2))"
      ],
      "metadata": {
        "colab": {
          "base_uri": "https://localhost:8080/"
        },
        "id": "ioUsiB7X9yAz",
        "outputId": "a29a7584-66e6-4c93-b4ad-368e703159ef"
      },
      "execution_count": null,
      "outputs": [
        {
          "output_type": "stream",
          "name": "stdout",
          "text": [
            "[\n",
            "  {\n",
            "    \"id\": 1528,\n",
            "    \"name\": \"Joao\",\n",
            "    \"account\": {\n",
            "      \"id\": 1601,\n",
            "      \"number\": \"59601-1\",\n",
            "      \"agency\": \"3601\",\n",
            "      \"balance\": 0.0,\n",
            "      \"limit\": 8900.0\n",
            "    },\n",
            "    \"card\": {\n",
            "      \"id\": 1462,\n",
            "      \"number\": \"**** **** **** 1635\",\n",
            "      \"limit\": 36900.0\n",
            "    },\n",
            "    \"features\": [],\n",
            "    \"news\": []\n",
            "  },\n",
            "  {\n",
            "    \"id\": 1529,\n",
            "    \"name\": \"Silvana\",\n",
            "    \"account\": {\n",
            "      \"id\": 1602,\n",
            "      \"number\": \"57661-2\",\n",
            "      \"agency\": \"3271\",\n",
            "      \"balance\": 0.0,\n",
            "      \"limit\": 800.0\n",
            "    },\n",
            "    \"card\": {\n",
            "      \"id\": 1463,\n",
            "      \"number\": \"**** **** **** 6358\",\n",
            "      \"limit\": 1000.0\n",
            "    },\n",
            "    \"features\": [],\n",
            "    \"news\": []\n",
            "  },\n",
            "  {\n",
            "    \"id\": 1530,\n",
            "    \"name\": \"Duda\",\n",
            "    \"account\": {\n",
            "      \"id\": 1603,\n",
            "      \"number\": \"36740-2\",\n",
            "      \"agency\": \"4970\",\n",
            "      \"balance\": 0.0,\n",
            "      \"limit\": 1530.0\n",
            "    },\n",
            "    \"card\": {\n",
            "      \"id\": 1464,\n",
            "      \"number\": \"**** **** **** 2014\",\n",
            "      \"limit\": 3000.0\n",
            "    },\n",
            "    \"features\": [],\n",
            "    \"news\": []\n",
            "  },\n",
            "  {\n",
            "    \"id\": 1531,\n",
            "    \"name\": \"Fantasma\",\n",
            "    \"account\": {\n",
            "      \"id\": 1604,\n",
            "      \"number\": \"37740-2\",\n",
            "      \"agency\": \"4070\",\n",
            "      \"balance\": 0.0,\n",
            "      \"limit\": 950.0\n",
            "    },\n",
            "    \"card\": {\n",
            "      \"id\": 1465,\n",
            "      \"number\": \"**** **** **** 2010\",\n",
            "      \"limit\": 1600.0\n",
            "    },\n",
            "    \"features\": [],\n",
            "    \"news\": []\n",
            "  }\n",
            "]\n"
          ]
        }
      ]
    },
    {
      "cell_type": "markdown",
      "source": [
        "## Transform"
      ],
      "metadata": {
        "id": "H17dcAeW_ki-"
      }
    },
    {
      "cell_type": "markdown",
      "source": [
        "Utilizando a API do OpenAI GPT-4 para gerar uma mensagem de marketing personalizada para cada usuário."
      ],
      "metadata": {
        "id": "3-0nCFog_sOY"
      }
    },
    {
      "cell_type": "code",
      "source": [
        "!pip install openai"
      ],
      "metadata": {
        "id": "TXIilUBX_njf"
      },
      "execution_count": null,
      "outputs": []
    },
    {
      "cell_type": "code",
      "source": [
        "# Documentação Oficial da API OpenAI: https://platform.openai.com/docs/api-reference/introduction\n",
        "# Informações sobre o Período Gratuito: https://help.openai.com/en/articles/4936830\n",
        "\n",
        "# Para gerar uma API Key:\n",
        "# 1. Crie uma conta na OpenAI\n",
        "# 2. Acesse a seção \"API Keys\"\n",
        "# 3. Clique em \"Create API Key\"\n",
        "# Link direto: https://platform.openai.com/account/api-keys\n",
        "\n",
        "# Chave da API\n",
        "openai_api_key = 'xx'"
      ],
      "metadata": {
        "id": "6EuzE6hyAJeE"
      },
      "execution_count": null,
      "outputs": []
    },
    {
      "cell_type": "code",
      "source": [
        "import openai"
      ],
      "metadata": {
        "id": "4xjUVYrTB0oM"
      },
      "execution_count": null,
      "outputs": []
    },
    {
      "cell_type": "code",
      "source": [
        "openai.api_key = openai_api_key"
      ],
      "metadata": {
        "id": "6zjjyXloB4MX"
      },
      "execution_count": null,
      "outputs": []
    },
    {
      "cell_type": "code",
      "source": [
        "def generate_ai_news(user):\n",
        "  completion = openai.ChatCompletion.create(\n",
        "    model=\"gpt-4\",\n",
        "    messages=[\n",
        "      {\n",
        "          \"role\": \"system\",\n",
        "          \"content\": \"Você é um especialista em markting bancário.\" # o que o bot será\n",
        "      },\n",
        "      {\n",
        "          \"role\": \"user\",\n",
        "          \"content\": f\"Crie uma mensagem para {user['name']} sobre a importância dos investimentos (máximo de 100 caracteres)\" # comando pro bot executar\n",
        "      }\n",
        "    ]\n",
        "  )\n",
        "  return completion.choices[0].message.content.strip('\\\"')"
      ],
      "metadata": {
        "id": "4kFCfgRzB_7m"
      },
      "execution_count": null,
      "outputs": []
    },
    {
      "cell_type": "code",
      "source": [
        "for user in users:\n",
        "  news = generate_ai_news(user)\n",
        "  print(news)\n",
        "  user['news'].append({\n",
        "      \"icon\": \"https://digitalinnovationone.github.io/santander-dev-week-2023-api/icons/credit.svg\",\n",
        "      \"description\": news\n",
        "  })"
      ],
      "metadata": {
        "colab": {
          "base_uri": "https://localhost:8080/"
        },
        "id": "0R2RHm72EnDA",
        "outputId": "06b8fc3d-9efb-4233-c306-69dd91c54912"
      },
      "execution_count": null,
      "outputs": [
        {
          "output_type": "stream",
          "name": "stdout",
          "text": [
            "Olá João, invista para garantir seu futuro financeiro. Seu dinheiro trabalhando por você!\n",
            "Silvana, investir é essencial para construir riqueza e segurança financeira. Vamos começar?\n",
            "Duda, investir é crucial. Faz seu dinheiro trabalhar para você, garantindo futuro financeiro estável.\n",
            "Fantasma, invista hoje para um futuro seguro e próspero. Faça o seu dinheiro trabalhar para você!\n"
          ]
        }
      ]
    },
    {
      "cell_type": "markdown",
      "source": [
        "## Load"
      ],
      "metadata": {
        "id": "RVphD3EdLVVd"
      }
    },
    {
      "cell_type": "markdown",
      "source": [
        "Atualizando a lista de \"news\" de cada usuário na API com a nova mensagem gerada."
      ],
      "metadata": {
        "id": "8_JCPuiCLWqM"
      }
    },
    {
      "cell_type": "code",
      "source": [
        "def update_user(user):\n",
        "  response = requests.put(f\"{sdw2023_api_url}/users/{user['id']}\", json=user)\n",
        "  return True if response.status_code == 200 else False"
      ],
      "metadata": {
        "id": "ElXYgDdwLgAW"
      },
      "execution_count": null,
      "outputs": []
    },
    {
      "cell_type": "code",
      "source": [
        "for user in users:\n",
        "  success = update_user(user)\n",
        "  print(f\"User {user['name']} updated? {success}!\")"
      ],
      "metadata": {
        "colab": {
          "base_uri": "https://localhost:8080/"
        },
        "id": "fz_yRzaVNTeS",
        "outputId": "431f6997-ccdd-45b7-e4e1-1843b2eef45b"
      },
      "execution_count": null,
      "outputs": [
        {
          "output_type": "stream",
          "name": "stdout",
          "text": [
            "User Joao updated? True!\n",
            "User Silvana updated? True!\n",
            "User Duda updated? True!\n",
            "User Fantasma updated? True!\n"
          ]
        }
      ]
    }
  ]
}